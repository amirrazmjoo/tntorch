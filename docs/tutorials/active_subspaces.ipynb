{
 "cells": [
  {
   "cell_type": "markdown",
   "metadata": {},
   "source": [
    "# Active Subspaces\n",
    "\n",
    "Sometimes, the behavior of an $N$-dimensional model $f$ can be explained best by a *linear reparameterization* of its inputs variables, i.e. we can write $f(\\mathbf{x}) = g(\\mathbf{y}) = g(\\mathbf{M} \\cdot \\mathbf{x})$ where $\\mathbf{M}$ has size $M \\times N$ and $M < N$. When this happens, we say that $f$ admits an $M$-dimensional *active subspace* with basis given by $\\mathbf{M}$'s rows. Those basis vectors are the main directions of variance of the function $f$.\n",
    "\n",
    "The main directions are the eigenvectors of the matrix\n",
    "\n",
    "$\\mathbb{E}[\\nabla f^T \\cdot \\nabla f] = \\begin{pmatrix}\n",
    "\\mathbb{E}[f_{x_1} \\cdot f_{x_1}] & \\dots & \\mathbb{E}[f_{x_1} \\cdot f_{x_N}] \\\\\n",
    "\\dots & \\dots & \\dots \\\\\n",
    "\\mathbb{E}[f_{x_N} \\cdot f_{x_1}] & \\dots & \\mathbb{E}[f_{x_N} \\cdot f_{x_N}]\n",
    "\\end{pmatrix}$\n",
    "\n",
    "whereas the eigenvalues reveal the subspace's dimensionality --that is, a large gap between the $M$-th and $(M+1)$-th eigenvalue indicates that an $M$-dimensional active subspace is present.\n",
    "\n",
    "The necessary expected values are easy to compute from a tensor decomposition: they are just dot products between tensors. We will show a small demonstration of that in this notebook using a 4D function.\n",
    "\n",
    "Reference: see e.g. [\"Discovering an Active Subspace in a Single-Diode Solar Cell Model\", P. Constantine et al. (2015)](https://arxiv.org/abs/1406.7607)."
   ]
  },
  {
   "cell_type": "code",
   "execution_count": 1,
   "metadata": {},
   "outputs": [],
   "source": [
    "import tntorch as tn\n",
    "import torch\n",
    "torch.set_default_dtype(torch.float64)\n",
    "\n",
    "def f(X):\n",
    "    return X[:, 0] * X[:, 1] + X[:, 2]\n",
    "\n",
    "ticks = 64\n",
    "P = 100\n",
    "N = 4\n",
    "\n",
    "X = torch.rand((P, N))\n",
    "X *= (ticks-1)\n",
    "X = torch.round(X)\n",
    "y = f(X)"
   ]
  },
  {
   "cell_type": "markdown",
   "metadata": {},
   "source": [
    "We will fit this function `f` using a low-degree expansion in terms of [Legendre polynomials](pce.ipynb)."
   ]
  },
  {
   "cell_type": "code",
   "execution_count": 2,
   "metadata": {},
   "outputs": [
    {
     "name": "stdout",
     "output_type": "stream",
     "text": [
      "iter: 0       | loss:   0.999753 | total time:    0.0681\n",
      "iter: 500     | loss:   0.976744 | total time:    0.5568\n",
      "iter: 1000    | loss:   0.748542 | total time:    1.0160\n",
      "iter: 1500    | loss:   0.136286 | total time:    1.4746\n",
      "iter: 2000    | loss:   0.008914 | total time:    1.9377\n",
      "iter: 2500    | loss:   0.008340 | total time:    2.3975\n",
      "iter: 3000    | loss:   0.007649 | total time:    2.8598\n",
      "iter: 3500    | loss:   0.006894 | total time:    3.3183\n",
      "iter: 4000    | loss:   0.006212 | total time:    3.7835\n",
      "iter: 4203    | loss:   0.006041 | total time:    3.9697 <- converged (tol=0.0001)\n"
     ]
    }
   ],
   "source": [
    "t = tn.rand([ticks]*N, ranks_tt=2, ranks_tucker=2, requires_grad=True)\n",
    "t.set_factors('legendre')\n",
    "\n",
    "def loss(t):\n",
    "    return torch.norm(t[X].torch()-y) / torch.norm(y)\n",
    "tn.optimize(t, loss)\n"
   ]
  },
  {
   "cell_type": "code",
   "execution_count": 3,
   "metadata": {},
   "outputs": [
    {
     "data": {
      "image/png": "[encoded data removed]",
      "text/plain": [
       "<Figure size 432x288 with 1 Axes>"
      ]
     },
     "metadata": {
      "needs_background": "light"
     },
     "output_type": "display_data"
    }
   ],
   "source": [
    "eigvals, eigvecs = tn.active_subspace(t, bounds=None)\n",
    "\n",
    "import matplotlib.pyplot as plt\n",
    "%matplotlib inline\n",
    "plt.figure()\n",
    "plt.bar(range(N), eigvals.detach().numpy())\n",
    "plt.title('Eigenvalues')\n",
    "plt.xlabel('Component')\n",
    "plt.ylabel('Magnitude')\n",
    "plt.show()"
   ]
  },
  {
   "cell_type": "markdown",
   "metadata": {},
   "source": [
    "In view of those eigenvalues, we can conclude that the learned model can be written (almost) perfectly in terms of 2 linearly reparameterized variables."
   ]
  }
 ],
 "metadata": {
  "kernelspec": {
   "display_name": "Python 3 (ipykernel)",
   "language": "python",
   "name": "python3"
  },
  "language_info": {
   "codemirror_mode": {
    "name": "ipython",
    "version": 3
   },
   "file_extension": ".py",
   "mimetype": "text/x-python",
   "name": "python",
   "nbconvert_exporter": "python",
   "pygments_lexer": "ipython3",
   "version": "3.10.4"
  }
 },
 "nbformat": 4,
 "nbformat_minor": 2
}
