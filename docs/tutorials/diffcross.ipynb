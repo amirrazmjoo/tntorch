{
 "cells": [
  {
   "cell_type": "markdown",
   "metadata": {},
   "source": [
    "# Differentiable TT Cross-approximation: Example"
   ]
  },
  {
   "cell_type": "code",
   "execution_count": 1,
   "metadata": {},
   "outputs": [],
   "source": [
    "import tntorch as tn\n",
    "import torch\n",
    "torch.set_default_dtype(torch.float64)  # Note: float32 is sometimes unstable\n",
    "torch.manual_seed(0)"
   ]
  },
  {
   "cell_type": "markdown",
   "metadata": {},
   "source": [
    "### Example 1: Single Optimization\n",
    "\n",
    "We will optimize the problem $\\arg \\min_{\\mathcal{T}} \\|\\cos \\mathcal{T}\\|$ (element-wise cosine) using Adam on the adaptive TT-cross interpolation formula."
   ]
  },
  {
   "cell_type": "code",
   "execution_count": 2,
   "metadata": {},
   "outputs": [
    {
     "name": "stdout",
     "output_type": "stream",
     "text": [
      "0000: loss=133.653\n",
      "0200: loss=41.3387\n",
      "0400: loss=4.57952\n",
      "0600: loss=1.38465\n",
      "0800: loss=0.503446\n",
      "1000: loss=0.270926\n",
      "1200: loss=0.19317\n",
      "1400: loss=0.153916\n",
      "1600: loss=0.130659\n",
      "1800: loss=0.115443\n"
     ]
    }
   ],
   "source": [
    "# Initial solution; we constrain our search to rank-5 tensors\n",
    "t = tn.rand(32, 32, 32, ranks_tt=5, requires_grad=True)\n",
    "\n",
    "function = lambda x: torch.cos(x)\n",
    "\n",
    "# Optimization\n",
    "optimizer = torch.optim.Adam(t.cores)\n",
    "for it in range(2000):\n",
    "    optimizer.zero_grad()\n",
    "    \n",
    "    if it % 400 == 0:  # Update cross indices\n",
    "        _, info = tn.cross(tensors=[t], function=function, verbose=False, return_info=True)\n",
    "\n",
    "    # Forward pass\n",
    "    t2 = tn.cross_forward(tensors=[t], function=function, info=info)\n",
    "    loss = tn.norm(t2)\n",
    "\n",
    "    if it % 200 == 0:\n",
    "        print('{:04}: loss={:g}'.format(it, loss))\n",
    "    loss.backward()\n",
    "    optimizer.step()"
   ]
  },
  {
   "cell_type": "code",
   "execution_count": 3,
   "metadata": {},
   "outputs": [
    {
     "name": "stdout",
     "output_type": "stream",
     "text": [
      "3D TT tensor:\n",
      "\n",
      " 32  32  32\n",
      "  |   |   |\n",
      " (0) (1) (2)\n",
      " / \\ / \\ / \\\n",
      "1   5   5   1\n",
      "\n"
     ]
    }
   ],
   "source": [
    "print(t)"
   ]
  },
  {
   "cell_type": "code",
   "execution_count": 4,
   "metadata": {},
   "outputs": [
    {
     "name": "stdout",
     "output_type": "stream",
     "text": [
      "tensor([[[1.5708, 1.5707, 1.5707,  ..., 1.5705, 4.7115, 1.5705],\n",
      "         [1.5707, 1.5706, 1.5706,  ..., 1.5702, 4.7118, 1.5707],\n",
      "         [1.5704, 1.5704, 1.5704,  ..., 1.5705, 4.7118, 1.5704],\n",
      "         ...,\n",
      "         [1.5710, 1.5709, 1.5707,  ..., 1.5700, 4.7114, 1.5707],\n",
      "         [1.5707, 1.5706, 1.5707,  ..., 1.5707, 4.7118, 1.5705],\n",
      "         [1.5702, 1.5702, 1.5702,  ..., 1.5706, 4.7118, 1.5703]],\n",
      "\n",
      "        [[1.5703, 1.5703, 1.5704,  ..., 1.5704, 4.7117, 1.5704],\n",
      "         [1.5703, 1.5703, 1.5703,  ..., 1.5704, 4.7116, 1.5704],\n",
      "         [1.5704, 1.5703, 1.5704,  ..., 1.5704, 4.7117, 1.5704],\n",
      "         ...,\n",
      "         [1.5703, 1.5703, 1.5703,  ..., 1.5704, 4.7116, 1.5704],\n",
      "         [1.5703, 1.5703, 1.5704,  ..., 1.5704, 4.7119, 1.5704],\n",
      "         [1.5704, 1.5704, 1.5704,  ..., 1.5704, 4.7115, 1.5704]],\n",
      "\n",
      "        [[1.5702, 1.5703, 1.5703,  ..., 1.5704, 4.7114, 1.5703],\n",
      "         [1.5705, 1.5704, 1.5704,  ..., 1.5704, 4.7116, 1.5705],\n",
      "         [1.5707, 1.5705, 1.5706,  ..., 1.5702, 4.7117, 1.5706],\n",
      "         ...,\n",
      "         [1.5700, 1.5701, 1.5702,  ..., 1.5706, 4.7117, 1.5702],\n",
      "         [1.5703, 1.5703, 1.5703,  ..., 1.5704, 4.7115, 1.5704],\n",
      "         [1.5707, 1.5706, 1.5705,  ..., 1.5703, 4.7114, 1.5705]],\n",
      "\n",
      "        ...,\n",
      "\n",
      "        [[1.5704, 1.5704, 1.5704,  ..., 1.5704, 4.7113, 1.5703],\n",
      "         [1.5706, 1.5705, 1.5705,  ..., 1.5703, 4.7116, 1.5706],\n",
      "         [1.5707, 1.5705, 1.5706,  ..., 1.5703, 4.7117, 1.5706],\n",
      "         ...,\n",
      "         [1.5703, 1.5703, 1.5703,  ..., 1.5704, 4.7116, 1.5704],\n",
      "         [1.5704, 1.5704, 1.5704,  ..., 1.5704, 4.7114, 1.5704],\n",
      "         [1.5705, 1.5705, 1.5705,  ..., 1.5703, 4.7114, 1.5704]],\n",
      "\n",
      "        [[1.5704, 1.5704, 1.5704,  ..., 1.5703, 4.7115, 1.5704],\n",
      "         [1.5704, 1.5705, 1.5704,  ..., 1.5706, 4.7112, 1.5703],\n",
      "         [1.5704, 1.5705, 1.5704,  ..., 1.5704, 4.7111, 1.5703],\n",
      "         ...,\n",
      "         [1.5702, 1.5703, 1.5704,  ..., 1.5707, 4.7115, 1.5703],\n",
      "         [1.5704, 1.5705, 1.5703,  ..., 1.5702, 4.7110, 1.5703],\n",
      "         [1.5705, 1.5706, 1.5705,  ..., 1.5704, 4.7115, 1.5705]],\n",
      "\n",
      "        [[1.5701, 1.5702, 1.5702,  ..., 1.5704, 4.7115, 1.5703],\n",
      "         [1.5704, 1.5704, 1.5704,  ..., 1.5704, 4.7116, 1.5704],\n",
      "         [1.5707, 1.5706, 1.5706,  ..., 1.5702, 4.7117, 1.5706],\n",
      "         ...,\n",
      "         [1.5699, 1.5700, 1.5701,  ..., 1.5706, 4.7118, 1.5702],\n",
      "         [1.5702, 1.5703, 1.5703,  ..., 1.5703, 4.7116, 1.5704],\n",
      "         [1.5707, 1.5707, 1.5706,  ..., 1.5702, 4.7114, 1.5706]]],\n",
      "       grad_fn=<AsStridedBackward>)\n"
     ]
    }
   ],
   "source": [
    "print(t.torch())"
   ]
  },
  {
   "cell_type": "markdown",
   "metadata": {},
   "source": [
    "### Example 2: Joint Optimization\n",
    "\n",
    "We will now find $\\mathcal{T}_1, \\mathcal{T}_2$ such that $\\|\\mathcal{T}_1^2 + \\mathcal{T}_2^2 - 1\\|$ is minimal."
   ]
  },
  {
   "cell_type": "code",
   "execution_count": 5,
   "metadata": {},
   "outputs": [
    {
     "name": "stdout",
     "output_type": "stream",
     "text": [
      "0000: loss=2407.16\n",
      "0200: loss=275.716\n",
      "0400: loss=125.413\n",
      "0600: loss=71.8586\n",
      "0800: loss=46.5382\n",
      "1000: loss=30.6674\n",
      "1200: loss=19.8756\n",
      "1400: loss=13.2586\n",
      "1600: loss=9.2578\n",
      "1800: loss=6.68817\n"
     ]
    }
   ],
   "source": [
    "t1 = tn.rand(16, 16, 16, 16, ranks_tt=3, requires_grad=True)\n",
    "t2 = tn.rand(16, 16, 16, 16, ranks_tt=3, requires_grad=True)\n",
    "\n",
    "function = lambda x, y: x**2 + y**2\n",
    "\n",
    "# Optimization\n",
    "optimizer = torch.optim.Adam(t1.cores + t2.cores)\n",
    "for it in range(2000):\n",
    "    optimizer.zero_grad()\n",
    "    \n",
    "    if it % 400 == 0:  # Update cross indices\n",
    "        _, info = tn.cross(tensors=[t1, t2], function=function, verbose=False, return_info=True)\n",
    "\n",
    "    # Forward pass\n",
    "    t3 = tn.cross_forward(tensors=[t1, t2], function=function, info=info)\n",
    "    loss = tn.norm(t3-1)\n",
    "\n",
    "    if it % 200 == 0:\n",
    "        print('{:04}: loss={:g}'.format(it, loss))\n",
    "    loss.backward()\n",
    "    optimizer.step()"
   ]
  },
  {
   "cell_type": "markdown",
   "metadata": {},
   "source": [
    "### Example 3: Fixed Grid\n",
    "\n",
    "Differentiable cross-approximation can be also used to find parameters $\\pmb{\\theta}$ such that $f(\\pmb{x}, \\pmb{\\theta})$ satisfies some property for all $\\pmb{x} \\in \\Omega$, where $\\Omega$ is a fixed (no to be optimized) grid of points.\n",
    "\n",
    "In this toy example, we will find $w_1, w_2, b$ such that the simple neural network $\\tanh(w_1 x_1 + w_2 x_2 + b)$ is as close to $0.5$ as possible for all $(x_1, x_2) \\in [-1, 1]^2$."
   ]
  },
  {
   "cell_type": "code",
   "execution_count": 6,
   "metadata": {},
   "outputs": [],
   "source": [
    "N = 2\n",
    "I = 64\n",
    "domain = [torch.linspace(-1, 1, I) for n in range(N)]\n",
    "\n",
    "\n",
    "# Super-simple 1-layer MLP\n",
    "class Net(torch.nn.Module):\n",
    "    \n",
    "    def __init__(self):\n",
    "        super(Net, self).__init__()\n",
    "        self.linear = torch.nn.Linear(N, 1, bias=True)\n",
    "        \n",
    "    def forward(self, Xs):\n",
    "        Xs = self.linear(Xs)\n",
    "        return torch.tanh(Xs)\n",
    "\n",
    "    \n",
    "net = Net()\n",
    "function = net.forward"
   ]
  },
  {
   "cell_type": "markdown",
   "metadata": {},
   "source": [
    "Let us visualize the network's response over the domain $\\Omega = [-1, 1]^2$:"
   ]
  },
  {
   "cell_type": "code",
   "execution_count": 8,
   "metadata": {},
   "outputs": [
    {
     "name": "stdout",
     "output_type": "stream",
     "text": [
      "Cross-approximation over a 2D domain containing 4096 grid points:\n",
      "iter: 0  | eps: 5.079e-01 | total time:   0.0063 | largest rank:   1\n",
      "iter: 1  | eps: 1.222e-05 | total time:   0.0261 | largest rank:   4\n",
      "iter: 2  | eps: 1.377e-09 | total time:   0.0378 | largest rank:   7 <- converged: eps < 1e-06\n",
      "Did 2304 function evaluations, which took 0.001031s (2.235e+06 evals/s)\n",
      "\n"
     ]
    },
    {
     "data": {
      "image/png": "[encoded data removed]",
      "text/plain": [
       "<Figure size 432x288 with 2 Axes>"
      ]
     },
     "metadata": {
      "needs_background": "light"
     },
     "output_type": "display_data"
    }
   ],
   "source": [
    "import matplotlib.pyplot as plt\n",
    "\n",
    "def visualize_net():\n",
    "    t = tn.cross(domain=domain, function=function, function_arg='matrix')\n",
    "    plt.figure()\n",
    "    plt.imshow(t.numpy())\n",
    "    plt.colorbar()\n",
    "    plt.show()\n",
    "    \n",
    "visualize_net()"
   ]
  },
  {
   "cell_type": "markdown",
   "metadata": {},
   "source": [
    "We now optimize the network:"
   ]
  },
  {
   "cell_type": "code",
   "execution_count": 9,
   "metadata": {},
   "outputs": [
    {
     "name": "stdout",
     "output_type": "stream",
     "text": [
      "0000: loss=33.3485\n",
      "0200: loss=18.9223\n",
      "0400: loss=7.43317\n",
      "0600: loss=1.24353\n",
      "0800: loss=0.0103478\n",
      "1000: loss=0.00480166\n",
      "1200: loss=0.00513987\n",
      "1400: loss=0.00359209\n",
      "1600: loss=0.00339219\n",
      "1800: loss=0.00377836\n"
     ]
    }
   ],
   "source": [
    "# Optimization\n",
    "optimizer = torch.optim.Adam(net.parameters())\n",
    "for it in range(2000):\n",
    "    optimizer.zero_grad()\n",
    "    \n",
    "    if it % 400 == 0:  # Update cross indices\n",
    "        _, info = tn.cross(domain=domain, function=function, function_arg='matrix', verbose=False, return_info=True)\n",
    "\n",
    "    # Forward pass\n",
    "    t2 = tn.cross_forward(domain=domain, function=function, info=info, function_arg='matrix')\n",
    "    loss = tn.norm(t2-0.5)\n",
    "\n",
    "    if it % 200 == 0:\n",
    "        print('{:04}: loss={:g}'.format(it, loss))\n",
    "    loss.backward()\n",
    "    optimizer.step()"
   ]
  },
  {
   "cell_type": "markdown",
   "metadata": {},
   "source": [
    "Finally, let's check that the resulting network satisfies the property we wanted:"
   ]
  },
  {
   "cell_type": "code",
   "execution_count": 10,
   "metadata": {},
   "outputs": [
    {
     "name": "stdout",
     "output_type": "stream",
     "text": [
      "Cross-approximation over a 2D domain containing 4096 grid points:\n",
      "iter: 0  | eps: 1.167e-11 | total time:   0.0100 | largest rank:   1 <- converged: eps < 1e-06\n",
      "Did 192 function evaluations, which took 0.0003726s (5.152e+05 evals/s)\n",
      "\n"
     ]
    },
    {
     "data": {
      "image/png": "[encoded data removed]",
      "text/plain": [
       "<Figure size 432x288 with 2 Axes>"
      ]
     },
     "metadata": {
      "needs_background": "light"
     },
     "output_type": "display_data"
    }
   ],
   "source": [
    "visualize_net()"
   ]
  }
 ],
 "metadata": {
  "kernelspec": {
   "display_name": "Python 3",
   "language": "python",
   "name": "python3"
  },
  "language_info": {
   "codemirror_mode": {
    "name": "ipython",
    "version": 3
   },
   "file_extension": ".py",
   "mimetype": "text/x-python",
   "name": "python",
   "nbconvert_exporter": "python",
   "pygments_lexer": "ipython3",
   "version": "3.7.3"
  }
 },
 "nbformat": 4,
 "nbformat_minor": 4
}
